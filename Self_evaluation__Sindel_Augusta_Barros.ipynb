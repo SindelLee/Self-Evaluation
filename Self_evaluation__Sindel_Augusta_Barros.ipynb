{
  "nbformat": 4,
  "nbformat_minor": 0,
  "metadata": {
    "colab": {
      "name": "Self-evaluation_ Sindel Augusta Barros.ipynb",
      "provenance": [],
      "authorship_tag": "ABX9TyNomUp3uNCVFlYf/qXsT/4n",
      "include_colab_link": true
    },
    "kernelspec": {
      "name": "python3",
      "display_name": "Python 3"
    },
    "language_info": {
      "name": "python"
    }
  },
  "cells": [
    {
      "cell_type": "markdown",
      "metadata": {
        "id": "view-in-github",
        "colab_type": "text"
      },
      "source": [
        "<a href=\"https://colab.research.google.com/github/SindelLee/Self-Evaluation/blob/main/Self_evaluation__Sindel_Augusta_Barros.ipynb\" target=\"_parent\"><img src=\"https://colab.research.google.com/assets/colab-badge.svg\" alt=\"Open In Colab\"/></a>"
      ]
    },
    {
      "cell_type": "code",
      "metadata": {
        "colab": {
          "base_uri": "https://localhost:8080/"
        },
        "id": "RstYUWrAbzje",
        "outputId": "f43d1a6b-c0ae-4516-f09b-b9b8f0eb9a59"
      },
      "source": [
        "print(\"Responda 1 para SIM  e  0 para Nâo\")\n",
        "res1 = int(input(\"Foi participativa nesse semestre? \"))\n",
        "res2 = int(input(\"Entregou todos os trabalhos? \"))\n",
        "res3 = int(input(\"Assistiu todas as aulas? \"))\n",
        "res4 = int(input(\"A Pronúncia melhorou? \"))\n",
        "res5 = int(input(\"Aprendeu expressões novas? \"))\n",
        "soma_respostas = res1 + res2 + res3 + res4 + res5 # soma o número de respostas\n",
        "if (soma_respostas < 2):\n",
        " print(\"\\033[1;32m \\n Infelizmente terá que apelar para a empatia, uma media de 4\")\n",
        "elif (soma_respostas == 2):\n",
        " print(\"\\033[34m \\n Passaria raspando uma media de 6\")\n",
        "elif (3 <= soma_respostas <= 4):\n",
        " print(\"\\033[35m \\n Se esforçou merece um media de 7\")\n",
        "elif (soma_respostas == 5):\n",
        " print(\"\\033[1;31m \\n meus parabéns fez o minimo, media de 10\")"
      ],
      "execution_count": null,
      "outputs": [
        {
          "output_type": "stream",
          "text": [
            "Responda 1 para SIM  e  0 para Nâo\n",
            "Foi participativa nesse semestre? 0\n",
            "Entregou todos os trabalhos? 1\n",
            "Assistiu todas as aulas? 0\n",
            "A Pronúncia melhorou? 1\n",
            "Aprendeu expressões novas? 1\n",
            "\u001b[35m \n",
            " Se esforçou merece um media de 7\n"
          ],
          "name": "stdout"
        }
      ]
    }
  ]
}